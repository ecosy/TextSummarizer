{
 "cells": [
  {
   "cell_type": "code",
   "execution_count": 192,
   "metadata": {
    "ExecuteTime": {
     "end_time": "2018-10-09T12:51:54.868007Z",
     "start_time": "2018-10-09T12:51:54.862012Z"
    }
   },
   "outputs": [],
   "source": [
    "from konlpy.tag import Twitter\n",
    "import TextrankPmi"
   ]
  },
  {
   "cell_type": "code",
   "execution_count": 193,
   "metadata": {
    "ExecuteTime": {
     "end_time": "2018-10-09T12:51:55.102861Z",
     "start_time": "2018-10-09T12:51:55.097865Z"
    }
   },
   "outputs": [],
   "source": [
    "# 불용어 정의 -> 형태소 분석기가 잘못 분석하는 단어를 제거하기 위함입니다. 불용어의 정의가 잘될수록 성능이 올라갑니다.\n",
    "stopword = set([('천이', 'Noun'),('입니', 'Adjective'),('있는', 'Adjective'),('어서', 'Noun'),('만큼', 'Noun')])"
   ]
  },
  {
   "cell_type": "code",
   "execution_count": 194,
   "metadata": {
    "ExecuteTime": {
     "end_time": "2018-10-09T12:51:55.349644Z",
     "start_time": "2018-10-09T12:51:55.341648Z"
    }
   },
   "outputs": [],
   "source": [
    "sent = '영화 <너의 결혼식> 후기+리뷰입니다.박보영배우의 복귀작입니다. 그동안 이런 저런 역할을 맡아왔지만 사실 대중들의 기억속에서는 뽀블리라는 이름과 느낌으로 으로 더 많이 각인돼 오기도 했죠. 그만큼 어떤 캐릭터와 느낌에 있어서는 대체 불가능한 배우가 됐지만 동시에 본인에게는 스스로 뚫어야 할 벽이 되지 않았나 라는 생각도 조금 듭니다. 박보영 배우는 <너의 결혼식> 속의 환승희의 적극적이고 주도적인 모습이 맘에 들어 선택했다고 하지만 사실 <너의 결혼식>에서 그리는 첫사랑이란 남자주인공 황우연의 기억 속 누군가겠구나 하는 생각이 들었습니다. 남자 감독이 만든 남자 사람의 첫사랑 영화라고 할까요. 20대에 들어서고 시간이 지나면서 과연 그 때 그 시간속 첫사랑과 나와의 만남과 이별과 크고 작은 일들이 그저 타이밍 탓이었을까 생각해 봤던 때가 있는데 영화를 보니 마냥 또 그런 것만은 아니겠구나 라는 생각도 들더군요. 사랑은 타이밍이다를 외치는 영화지만 동시에 타이밍이 전부는 아니다 라는 걸 이야기 하는 영화기도 하고요.그 남자의 첫사랑은 그렇게,<너의 결혼식>은 첫사랑에 의미를 부여하는 영화입니다. 운명처럼 만나게 된 사람과 그 사람이 좋아서 해봤던 모든 처음 들을 담아보려고 노력했고요. 어린 마음에 했던 일들을 비롯해 20대의 현실을 마주하는 커플의 모습까지 합하면 캐릭터를 제외하고는 현실적인 부분도 충분히 있습니다. 모든 사람들이 그런건 아니겠지만 첫사랑의 특별함이란 결국 요령이나 익숙함 없이 그만큼 온맘을 쏟아서 좋아했던 때가 아닐까. 영화를 통해서 첫사랑이 생각났다는 것만으로도 어쩌면 첫사랑 영화로서 30% 정도는 성공했다고 볼 수 있겠습니다. 이야기자체의 특별함보다 기억에 남는 것은 역시나 황우연(김영광)과 환승희(박보영)의 비주얼합. 설레는 키차이라는게 이런거구나는 러닝타임인 110분 동안 내내 보여주고 있으니 설레지 않을 수 없죠. 돌고 돌아 또 첫사랑을 향해 가는 남자의 모습은 아무리 영화라지만 / 아무리 황우연이라지만 과연 어디까지 봐 줄만 한 것인가 싶었습니다. 이 미련맞은 남자야.영화를 보신 분들이라면 누구나 하는 이야기가 11시와 롤케익일 겁니다. 사실 멍하니 영화를 지켜보다 보면 영화속 곳곳에 들어가 있는 한국청춘물(이라고 부르는 것들)의 코메디 요소가 들어가 있는데 가족과 보기에는 살짝 민망한 감이 있고, 그렇다고 썸남썸녀가 보기엔 또 묘하게 부끄한 면이 있을지도 모르고. 오히려 연애기간을 좀 가졌던 커플이나 부부가 보면 흐뭇하게 볼 수 있는 영화인 것 같습니다. 무슨 뜻인지 궁금하신 분들은 극장에서 확인하시길 바랍니다. 오롯이 멜로로 이야기를 끌어가기는 힘들었는지 여기저기 드립들을 심어놓았더군요. 대신 그만큼 또 가벼운 마음과 기분으로 극장을 나설 수 있다는 것이 <너의 결혼식>이 가진 나름의 강점일 겁니다.멜로영화가 잘되기 힘들다, 많이 얘기하고 있죠. 코믹요소를 섞어서 나름대로의 훈훈함과 재미를 추구했기 때문에 그마나 누적관객 60만을 달리고 있는게 아닌가 싶네요. 남자 입장에서의 그려낸 첫사랑 이야기는 예쁘고 아름다운 추억을 준 사람이지만 그 순간 나에게 차갑던 사람 <- 이라는 공식을 크게 벗어나지 않는 느낌이었어요. +영화 속에서 표현된 것 보다 승희는 조금 더 아프고 아쉬워하고 고민했을 거라고 생각하면서.+어떤 나이대, 어떤 캐릭터를 연기해도 사랑스러움이라는 표현은 확실히 박보영배우를 표현하는데 있어 적합한 표현이네요. 모든 순간에 러블리.'"
   ]
  },
  {
   "cell_type": "code",
   "execution_count": 195,
   "metadata": {
    "ExecuteTime": {
     "end_time": "2018-10-09T12:51:55.622349Z",
     "start_time": "2018-10-09T12:51:55.610352Z"
    }
   },
   "outputs": [
    {
     "data": {
      "text/plain": [
       "'영화 <너의 결혼식> 후기+리뷰입니다.박보영배우의 복귀작입니다. 그동안 이런 저런 역할을 맡아왔지만 사실 대중들의 기억속에서는 뽀블리라는 이름과 느낌으로 으로 더 많이 각인돼 오기도 했죠. 그만큼 어떤 캐릭터와 느낌에 있어서는 대체 불가능한 배우가 됐지만 동시에 본인에게는 스스로 뚫어야 할 벽이 되지 않았나 라는 생각도 조금 듭니다. 박보영 배우는 <너의 결혼식> 속의 환승희의 적극적이고 주도적인 모습이 맘에 들어 선택했다고 하지만 사실 <너의 결혼식>에서 그리는 첫사랑이란 남자주인공 황우연의 기억 속 누군가겠구나 하는 생각이 들었습니다. 남자 감독이 만든 남자 사람의 첫사랑 영화라고 할까요. 20대에 들어서고 시간이 지나면서 과연 그 때 그 시간속 첫사랑과 나와의 만남과 이별과 크고 작은 일들이 그저 타이밍 탓이었을까 생각해 봤던 때가 있는데 영화를 보니 마냥 또 그런 것만은 아니겠구나 라는 생각도 들더군요. 사랑은 타이밍이다를 외치는 영화지만 동시에 타이밍이 전부는 아니다 라는 걸 이야기 하는 영화기도 하고요.그 남자의 첫사랑은 그렇게,<너의 결혼식>은 첫사랑에 의미를 부여하는 영화입니다. 운명처럼 만나게 된 사람과 그 사람이 좋아서 해봤던 모든 처음 들을 담아보려고 노력했고요. 어린 마음에 했던 일들을 비롯해 20대의 현실을 마주하는 커플의 모습까지 합하면 캐릭터를 제외하고는 현실적인 부분도 충분히 있습니다. 모든 사람들이 그런건 아니겠지만 첫사랑의 특별함이란 결국 요령이나 익숙함 없이 그만큼 온맘을 쏟아서 좋아했던 때가 아닐까. 영화를 통해서 첫사랑이 생각났다는 것만으로도 어쩌면 첫사랑 영화로서 30% 정도는 성공했다고 볼 수 있겠습니다. 이야기자체의 특별함보다 기억에 남는 것은 역시나 황우연(김영광)과 환승희(박보영)의 비주얼합. 설레는 키차이라는게 이런거구나는 러닝타임인 110분 동안 내내 보여주고 있으니 설레지 않을 수 없죠. 돌고 돌아 또 첫사랑을 향해 가는 남자의 모습은 아무리 영화라지만 / 아무리 황우연이라지만 과연 어디까지 봐 줄만 한 것인가 싶었습니다. 이 미련맞은 남자야.영화를 보신 분들이라면 누구나 하는 이야기가 11시와 롤케익일 겁니다. 사실 멍하니 영화를 지켜보다 보면 영화속 곳곳에 들어가 있는 한국청춘물(이라고 부르는 것들)의 코메디 요소가 들어가 있는데 가족과 보기에는 살짝 민망한 감이 있고, 그렇다고 썸남썸녀가 보기엔 또 묘하게 부끄한 면이 있을지도 모르고. 오히려 연애기간을 좀 가졌던 커플이나 부부가 보면 흐뭇하게 볼 수 있는 영화인 것 같습니다. 무슨 뜻인지 궁금하신 분들은 극장에서 확인하시길 바랍니다. 오롯이 멜로로 이야기를 끌어가기는 힘들었는지 여기저기 드립들을 심어놓았더군요. 대신 그만큼 또 가벼운 마음과 기분으로 극장을 나설 수 있다는 것이 <너의 결혼식>이 가진 나름의 강점일 겁니다.멜로영화가 잘되기 힘들다, 많이 얘기하고 있죠. 코믹요소를 섞어서 나름대로의 훈훈함과 재미를 추구했기 때문에 그마나 누적관객 60만을 달리고 있는게 아닌가 싶네요. 남자 입장에서의 그려낸 첫사랑 이야기는 예쁘고 아름다운 추억을 준 사람이지만 그 순간 나에게 차갑던 사람 <- 이라는 공식을 크게 벗어나지 않는 느낌이었어요. +영화 속에서 표현된 것 보다 승희는 조금 더 아프고 아쉬워하고 고민했을 거라고 생각하면서.+어떤 나이대, 어떤 캐릭터를 연기해도 사랑스러움이라는 표현은 확실히 박보영배우를 표현하는데 있어 적합한 표현이네요. 모든 순간에 러블리.'"
      ]
     },
     "execution_count": 195,
     "metadata": {},
     "output_type": "execute_result"
    }
   ],
   "source": [
    "# 너의 결혼식 리뷰(1600자)\n",
    "sent"
   ]
  },
  {
   "cell_type": "code",
   "execution_count": 197,
   "metadata": {
    "ExecuteTime": {
     "end_time": "2018-10-09T12:52:02.223790Z",
     "start_time": "2018-10-09T12:52:02.075835Z"
    }
   },
   "outputs": [
    {
     "name": "stdout",
     "output_type": "stream",
     "text": [
      "8\t0.10429943834859856\t그 남자의 첫사랑은 그렇게,<너의 결혼식>은 첫사랑에 의미를 부여하는 영화입니다.\n",
      "5\t0.09328518398612606\t 남자 감독이 만든 남자 사람의 첫사랑 영화라고 할까요.\n",
      "0\t0.07368113552404902\t영화 <너의 결혼식> 후기+리뷰입니다.\n",
      "16\t0.05791174288346119\t영화를 보신 분들이라면 누구나 하는 이야기가 11시와 롤케익일 겁니다.\n",
      "14\t0.04923332899016531\t 돌고 돌아 또 첫사랑을 향해 가는 남자의 모습은 아무리 영화라지만 / 아무리 황우연이라지만 과연 어디까지 봐 줄만 한 것인가 싶었습니다.\n",
      "7\t0.04810442897877161\t 사랑은 타이밍이다를 외치는 영화지만 동시에 타이밍이 전부는 아니다 라는 걸 이야기 하는 영화기도 하고요.\n",
      "1\t0.04435907271160034\t박보영배우의 복귀작입니다.\n",
      "12\t0.043881111974381264\t 영화를 통해서 첫사랑이 생각났다는 것만으로도 어쩌면 첫사랑 영화로서 30% 정도는 성공했다고 볼 수 있겠습니다.\n",
      "23\t0.03976919904887741\t 남자 입장에서의 그려낸 첫사랑 이야기는 예쁘고 아름다운 추억을 준 사람이지만 그 순간 나에게 차갑던 사람 <- 이라는 공식을 크게 벗어나지 않는 느낌이었어요.\n",
      "11\t0.03810043342127513\t 모든 사람들이 그런건 아니겠지만 첫사랑의 특별함이란 결국 요령이나 익숙함 없이 그만큼 온맘을 쏟아서 좋아했던 때가 아닐까.\n",
      "6\t0.03689228745566438\t 20대에 들어서고 시간이 지나면서 과연 그 때 그 시간속 첫사랑과 나와의 만남과 이별과 크고 작은 일들이 그저 타이밍 탓이었을까 생각해 봤던 때가 있는데 영화를 보니 마냥 또 그런 것만은 아니겠구나 라는 생각도 들더군요.\n",
      "4\t0.03584259216883395\t 박보영 배우는 <너의 결혼식> 속의 환승희의 적극적이고 주도적인 모습이 맘에 들어 선택했다고 하지만 사실 <너의 결혼식>에서 그리는 첫사랑이란 남자주인공 황우연의 기억 속 누군가겠구나 하는 생각이 들었습니다.\n",
      "24\t0.03421911707012306\t +영화 속에서 표현된 것 보다 승희는 조금 더 아프고 아쉬워하고 고민했을 거라고 생각하면서.\n",
      "15\t0.03337098836853403\t 이 미련맞은 남자야.\n",
      "13\t0.030577057248946916\t 이야기자체의 특별함보다 기억에 남는 것은 역시나 황우연(김영광)과 환승희(박보영)의 비주얼합.\n",
      "21\t0.02788152889185646\t 대신 그만큼 또 가벼운 마음과 기분으로 극장을 나설 수 있다는 것이 <너의 결혼식>이 가진 나름의 강점일 겁니다.\n",
      "25\t0.025348587960316582\t+어떤 나이대, 어떤 캐릭터를 연기해도 사랑스러움이라는 표현은 확실히 박보영배우를 표현하는데 있어 적합한 표현이네요.\n",
      "17\t0.024765297804762457\t 사실 멍하니 영화를 지켜보다 보면 영화속 곳곳에 들어가 있는 한국청춘물(이라고 부르는 것들)의 코메디 요소가 들어가 있는데 가족과 보기에는 살짝 민망한 감이 있고, 그렇다고 썸남썸녀가 보기엔 또 묘하게 부끄한 면이 있을지도 모르고.\n",
      "10\t0.023336068620442664\t 어린 마음에 했던 일들을 비롯해 20대의 현실을 마주하는 커플의 모습까지 합하면 캐릭터를 제외하고는 현실적인 부분도 충분히 있습니다.\n",
      "3\t0.02316462936307508\t 그만큼 어떤 캐릭터와 느낌에 있어서는 대체 불가능한 배우가 됐지만 동시에 본인에게는 스스로 뚫어야 할 벽이 되지 않았나 라는 생각도 조금 듭니다.\n",
      "9\t0.022352898013758667\t 운명처럼 만나게 된 사람과 그 사람이 좋아서 해봤던 모든 처음 들을 담아보려고 노력했고요.\n",
      "26\t0.022084706882043517\t 모든 순간에 러블리.\n",
      "18\t0.016518945786475295\t 오히려 연애기간을 좀 가졌던 커플이나 부부가 보면 흐뭇하게 볼 수 있는 영화인 것 같습니다.\n",
      "20\t0.015038426550051063\t 오롯이 멜로로 이야기를 끌어가기는 힘들었는지 여기저기 드립들을 심어놓았더군요.\n",
      "22\t0.013515995668195117\t 코믹요소를 섞어서 나름대로의 훈훈함과 재미를 추구했기 때문에 그마나 누적관객 60만을 달리고 있는게 아닌가 싶네요.\n",
      "2\t0.011260233627567314\t 그동안 이런 저런 역할을 맡아왔지만 사실 대중들의 기억속에서는 뽀블리라는 이름과 느낌으로 으로 더 많이 각인돼 오기도 했죠.\n",
      "19\t0.011205562652047333\t 무슨 뜻인지 궁금하신 분들은 극장에서 확인하시길 바랍니다.\n"
     ]
    }
   ],
   "source": [
    "# 불필요한 문장 10% 뽑고 지우기\n",
    "tr =  TextrankPmi.TextRank()\n",
    "tagger = Twitter()\n",
    "tr.loadSents(TextrankPmi.RawSentence(sent), \n",
    "             lambda sent: filter(lambda x: len(x[0])>=2 and x[1] in ('Noun', 'Verb', 'Adjective'), tagger.pos(sent)))\n",
    "tr.build()\n",
    "ranks = tr.rank()\n",
    "delete_sent=[]\n",
    "for k in sorted(ranks, key=ranks.get, reverse=True)[:100]:\n",
    "    print(\"\\t\".join([str(k), str(ranks[k]), str(tr.dictCount[k])]))\n",
    "    wow = str(tr.dictCount[k])\n",
    "    delete_sent.append(wow)\n",
    "delsent = delete_sent[-int(len(tr.dictCount) * 0.1):-1]\n",
    "delsent.append(delete_sent[-1])\n",
    "for i in range(0,len(delsent)):\n",
    "    sent = sent.replace(delsent[i],'')\n"
   ]
  },
  {
   "cell_type": "code",
   "execution_count": 198,
   "metadata": {
    "ExecuteTime": {
     "end_time": "2018-10-09T12:52:03.380618Z",
     "start_time": "2018-10-09T12:52:02.781269Z"
    }
   },
   "outputs": [
    {
     "name": "stdout",
     "output_type": "stream",
     "text": [
      "박보영 배우 4.470209200553974\n",
      "이란 남자 3.505128304510387\n",
      "첫사랑 이란 3.1484533605716547\n",
      "남자 사람 2.588837572636232\n",
      "첫사랑 이야기 2.2321626286975\n",
      "첫사랑 영화 1.3566938913436\n",
      "(('박보영', 'Noun'), ('배우', 'Noun'))\t0.142021\n",
      "(('첫사랑', 'Noun'), ('이란', 'Noun'))\t0.131612\n",
      "(('영화', 'Noun'),)\t0.100828\n",
      "(('남자', 'Noun'), ('사람', 'Noun'))\t0.0975972\n",
      "(('이야기', 'Noun'),)\t0.0751134\n",
      "(('모습', 'Noun'),)\t0.0643328\n",
      "(('캐릭터', 'Noun'),)\t0.0621625\n",
      "(('표현', 'Noun'),)\t0.0579755\n",
      "(('동시', 'Noun'),)\t0.0553209\n",
      "(('결혼식', 'Noun'),)\t0.0491672\n",
      "(('생각', 'Noun'),)\t0.0459359\n"
     ]
    }
   ],
   "source": [
    "# 핵심어 뽑기 -> window, coef, 단어의 품사, 전체 단어 비율을 조절할 수 있다.\n",
    "tr = TextrankPmi.TextRank(window=4, coef=1)\n",
    "tr.load(TextrankPmi.RawTagger(sent),lambda w: w not in stopword and len(w[0])>=2 and w[1] in ('Noun'))\n",
    "tr.build()\n",
    "kw = tr.extract(0.1)\n",
    "for k in sorted(kw, key=kw.get, reverse=True):\n",
    "    print(\"%s\\t%g\" % (k, kw[k]))"
   ]
  },
  {
   "cell_type": "code",
   "execution_count": 187,
   "metadata": {
    "ExecuteTime": {
     "end_time": "2018-10-09T12:48:55.938271Z",
     "start_time": "2018-10-09T12:48:55.926276Z"
    }
   },
   "outputs": [
    {
     "data": {
      "text/plain": [
       "['박보영 배우', '첫사랑 이란', '영화', '남자 사람', '이야기', '모습', '기억', '캐릭터']"
      ]
     },
     "execution_count": 187,
     "metadata": {},
     "output_type": "execute_result"
    }
   ],
   "source": [
    "# 단어만 뽑아내기\n",
    "wow = []\n",
    "for k in kw.keys():\n",
    "    if len(k) == 2:\n",
    "        ee = k[0][0] +' '+k[1][0]\n",
    "        wow.append(ee)\n",
    "    else:\n",
    "        ee = k[0][0]\n",
    "        wow.append(ee)\n",
    "        \n",
    "# 핵심단어의 개수는 사용된 단어 종류의 개수 중 5% 추출 -> 비율은 사용자가 원하는데로 조절\n",
    "wow = wow[0:int(len(tr.dictCount)*0.05)]\n",
    "wow"
   ]
  },
  {
   "cell_type": "code",
   "execution_count": 188,
   "metadata": {
    "ExecuteTime": {
     "end_time": "2018-10-09T12:49:00.258676Z",
     "start_time": "2018-10-09T12:48:56.966748Z"
    }
   },
   "outputs": [],
   "source": [
    "# 해당 키워드 중 TR이 가장 높은 문장을 택하는 코드\n",
    "finish = []\n",
    "for i in range(0,len(wow)):\n",
    "    cy = sent.split('.')\n",
    "    for h in sorted(range(-(len(cy)),0),reverse=True):\n",
    "         if wow[i] in cy[h]:\n",
    "            from ckonlpy.tag import Twitter\n",
    "            nlp = Twitter()\n",
    "            f = open('형태소 보완.txt')\n",
    "            dd = f.read()\n",
    "            a = dd.split('\\n')\n",
    "            nlp.add_dictionary(a,'Noun')\n",
    "            try:\n",
    "                tx = nlp.pos(cy[h])\n",
    "                tx2 = nlp.pos(wow[i])[0]\n",
    "                tx3 = tx.index(tx2)\n",
    "                if tx3 == 0:\n",
    "                    j = wow[i]\n",
    "                else:\n",
    "                    hoho2 = []\n",
    "                    for y in range(0,len(tx[:tx3])):\n",
    "                        if 'Noun' in tx[:tx3][y] and len(tx[:tx3][y][0]) >= 2:\n",
    "                            hoho2.append(y)\n",
    "                    if len(hoho2)>=2:\n",
    "                        j = tx[:tx3][hoho2[-2]][0]\n",
    "                    elif len(hoho2) == 1:\n",
    "                        j = tx[:tx3][hoho2[0]][0]\n",
    "                    elif len(hoho2) == 0:\n",
    "                        j = wow[i]\n",
    "                aa = cy[h][cy[h].index(j):]\n",
    "                bb = nlp.pos(aa)\n",
    "            except:\n",
    "                pass\n",
    "            break\n",
    "\n",
    "    # 문장에 동사가 여러개일 경우 맨 마지막 동사를 기준으로 인덱싱 및 스태밍\n",
    "    for j in sorted(range(-(len(bb)),0),reverse=True):\n",
    "        if 'Verb' in bb[j] or 'Adjective' in bb[j]:\n",
    "            from konlpy.tag import Twitter\n",
    "            nlp = Twitter()\n",
    "            z = bb[j][0]\n",
    "            finish.append(aa[:aa.index(z)] + nlp.pos(z,stem=True)[0][0])\n",
    "            break\n",
    "    hoho = []\n",
    "\n",
    "    # 문장에 동사가 없을 때\n",
    "    for j in sorted(range(-(len(bb)),0),reverse=True):\n",
    "        if 'Verb' in bb[j] or 'Adjective' in bb[j]:\n",
    "            hoho.append(j)\n",
    "    if len(hoho) == 0:\n",
    "        finish.append(aa)\n",
    "# 복합명사가 띄어쓰기가 아니라 붙여쓰기인 경우를 고려\n",
    "how = []\n",
    "for i in range(0,len(wow)):\n",
    "    if ' ' in wow[i]:\n",
    "        how.append(wow[i])\n",
    "if len(how) != 0:\n",
    "    for i in range(0,len(how)):\n",
    "        how[i] = how[i].replace(' ','')\n",
    "    for i in range(0,len(how)):\n",
    "        cy = sent.split('.')\n",
    "        for h in sorted(range(-(len(cy)),0),reverse=True):\n",
    "            if how[i] in cy[h]:\n",
    "                from ckonlpy.tag import Twitter\n",
    "                nlp = Twitter()\n",
    "                f = open('형태소 보완.txt')\n",
    "                dd = f.read()\n",
    "                a = dd.split('\\n')\n",
    "                nlp.add_dictionary(a,'Noun')\n",
    "                tx = nlp.pos(cy[h])\n",
    "                tx2 = nlp.pos(how[i])[0]\n",
    "                tx3 = tx.index(tx2)\n",
    "                if tx3 == 0:\n",
    "                    j = how[i]\n",
    "                else:\n",
    "                    hoho2 = []\n",
    "                    for y in range(0,len(tx[:tx3])):\n",
    "                        if 'Noun' in tx[:tx3][y] and len(tx[:tx3][y][0]) >= 2:\n",
    "                            hoho2.append(y)\n",
    "                    if len(hoho2)>=2:\n",
    "                        j = tx[:tx3][hoho2[-2]][0]\n",
    "                    elif len(hoho2) == 1:\n",
    "                        j = tx[:tx3][hoho2[0]][0]\n",
    "                    elif len(hoho2) == 0:\n",
    "                        j = how[i]\n",
    "                aa = cy[h][cy[h].index(j):]\n",
    "                bb = nlp.pos(aa)\n",
    "                break\n",
    "\n",
    "\n",
    "        # 문장에 동사가 여러개일 경우 맨 마지막 동사를 기준으로 인덱싱 및 스태밍\n",
    "        for j in sorted(range(-(len(bb)),0),reverse=True):\n",
    "            if 'Verb' in bb[j] or 'Adjective' in bb[j]:\n",
    "                from konlpy.tag import Twitter\n",
    "                nlp = Twitter()\n",
    "                z = bb[j][0]\n",
    "                finish.append(aa[:aa.index(z)] + nlp.pos(z,stem=True)[0][0])\n",
    "                break\n",
    "        hoho = []\n",
    "\n",
    "        # 문장에 동사가 없을 때\n",
    "        for j in sorted(range(-(len(bb)),0),reverse=True):\n",
    "            if 'Verb' in bb[j] or 'Adjective' in bb[j]:\n",
    "                hoho.append(j)\n",
    "        if len(hoho) == 0:\n",
    "            finish.append(aa)"
   ]
  },
  {
   "cell_type": "code",
   "execution_count": 189,
   "metadata": {
    "ExecuteTime": {
     "end_time": "2018-10-09T12:49:00.297036Z",
     "start_time": "2018-10-09T12:49:00.272589Z"
    }
   },
   "outputs": [
    {
     "name": "stdout",
     "output_type": "stream",
     "text": [
      "[4, 14, 24, 25, 13, 25, 23, 5, 4]\n",
      "['박보영 배우', '첫사랑 이란', '영화', '남자 사람', '이야기', '모습', '기억', '캐릭터']\n",
      "['박보영 배우는 <너의 결혼식> 속의 환승희의 적극적이고 주도적인 모습이 맘에 들어 선택했다고 하지만 사실 <너의 결혼식>에서 그리는 첫사랑이란 남자주인공 황우연의 기억 속 누군가겠구나 하는 생각이 들다', '남자 사람의 첫사랑 영화라고 하다', '특별함보다 기억에 남는 것은 역시나 황우연(김영광)과 환승희다', '첫사랑을 향해 가는 남자의 모습은 아무리 영화라지만 / 아무리 황우연이라지만 과연 어디까지 봐 줄만 한 것인가 싶다', '입장에서의 그려낸 첫사랑 이야기는 예쁘고 아름다운 추억을 준 사람이지만 그 순간 나에게 차갑던 사람 <- 이라는 공식을 크게 벗어나지 않다', '영화 속에서 표현된 것 보다 승희는 조금 더 아프고 아쉬워하고 고민하다', '나이대, 어떤 캐릭터를 연기해도 사랑스러움이라는 표현은 확실히 박보영배우를 표현하는데 있다']\n"
     ]
    }
   ],
   "source": [
    "# 동사, 형용사 원형을 못잡아 내는 부분 보완\n",
    "summary = list(set(finish))\n",
    "for i in range(0,len(summary)):\n",
    "    if '릴끄다' in summary[i]:\n",
    "        summary[i] = summary[i].replace('릴끄다','리다')\n",
    "    if '어다' in summary[i]:\n",
    "        summary[i] = summary[i].replace('어다','었다')\n",
    "    if '합' in summary[i][-1]:\n",
    "        summary[i] = summary[i]+'니다'\n",
    "\n",
    "# 문장을 시간 순으로 배열\n",
    "hello = []\n",
    "for i in range(0,len(summary)):\n",
    "    cp = sent.split('.')\n",
    "    for h in range(0,len(cp)):\n",
    "        if summary[i][0:-3] in cp[h]:\n",
    "            hello.append(h)\n",
    "            break\n",
    "\n",
    "while 1:\n",
    "    if len(hello) == len(summary):\n",
    "        break\n",
    "    elif len(hello) >= len(summary):\n",
    "        hello.pop()\n",
    "    elif len(hello) <= len(summary):\n",
    "        hello.append(50)\n",
    "print(hello)\n",
    "jj=[]\n",
    "for i in range(0,len(summary)):\n",
    "    jj.append([summary[i],hello[i]])\n",
    "ee = dict(jj)\n",
    "items = ee.items()\n",
    "summary2 = [item[0] for item in sorted(items, key=lambda x: x[1])]\n",
    "\n",
    "## 중복되는 문장 제거하기 코드\n",
    "for i in range(0,len(summary2)):\n",
    "    for h in range(0,len(summary2)):\n",
    "        if i != h:\n",
    "            if summary2[i] in summary2[h]:\n",
    "                summary2[i] = '제거'\n",
    "good = True\n",
    "while good:\n",
    "    try:\n",
    "        summary2.remove('제거')\n",
    "    except ValueError: \n",
    "        good = False\n",
    "print(wow)\n",
    "print(summary2)"
   ]
  }
 ],
 "metadata": {
  "kernelspec": {
   "display_name": "Python 3",
   "language": "python",
   "name": "python3"
  },
  "language_info": {
   "codemirror_mode": {
    "name": "ipython",
    "version": 3
   },
   "file_extension": ".py",
   "mimetype": "text/x-python",
   "name": "python",
   "nbconvert_exporter": "python",
   "pygments_lexer": "ipython3",
   "version": "3.6.5"
  },
  "varInspector": {
   "cols": {
    "lenName": 16,
    "lenType": 16,
    "lenVar": 40
   },
   "kernels_config": {
    "python": {
     "delete_cmd_postfix": "",
     "delete_cmd_prefix": "del ",
     "library": "var_list.py",
     "varRefreshCmd": "print(var_dic_list())"
    },
    "r": {
     "delete_cmd_postfix": ") ",
     "delete_cmd_prefix": "rm(",
     "library": "var_list.r",
     "varRefreshCmd": "cat(var_dic_list()) "
    }
   },
   "types_to_exclude": [
    "module",
    "function",
    "builtin_function_or_method",
    "instance",
    "_Feature"
   ],
   "window_display": false
  }
 },
 "nbformat": 4,
 "nbformat_minor": 2
}

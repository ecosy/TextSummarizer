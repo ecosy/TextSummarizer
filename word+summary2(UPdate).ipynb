{
 "cells": [
  {
   "cell_type": "code",
   "execution_count": 110,
   "metadata": {
    "ExecuteTime": {
     "end_time": "2018-11-22T05:54:27.705470Z",
     "start_time": "2018-11-22T05:54:27.701472Z"
    }
   },
   "outputs": [],
   "source": [
    "from konlpy.tag import Twitter\n",
    "import TextrankPmi"
   ]
  },
  {
   "cell_type": "code",
   "execution_count": 111,
   "metadata": {
    "ExecuteTime": {
     "end_time": "2018-11-22T05:54:28.109221Z",
     "start_time": "2018-11-22T05:54:28.104227Z"
    }
   },
   "outputs": [],
   "source": [
    "# 불용어 정의 -> 형태소 분석기가 잘못 분석하는 단어를 제거하기 위함입니다. 불용어의 정의가 잘될수록 성능이 올라갑니다.\n",
    "stopword = set([('천이', 'Noun'),('입니', 'Adjective'),('있는', 'Adjective'),('어서', 'Noun'),('만큼', 'Noun'),('면서', 'Noun')])"
   ]
  },
  {
   "cell_type": "code",
   "execution_count": 112,
   "metadata": {
    "ExecuteTime": {
     "end_time": "2018-11-22T05:54:28.514969Z",
     "start_time": "2018-11-22T05:54:28.509973Z"
    }
   },
   "outputs": [],
   "source": [
    "sent = '제발 포스터만 보고 촌스럽다고 생각하면서 그냥 넘기지 않길 바란다. 포스터와 달리 몹시 세련된 로맨틱 코미디 니까!!간만에 제대로 된 로맨틱 코미디를 보았다. 영화를 보는 내내 웃었고 조마조마했고 가슴이 아팠고 고개를 끄덕였다. 정말 한동안은 로맨틱 코미디 영화를 추천해달라고 하면 빅식을 꼭 보라고 망설이지 않고 추천하게 될 것 같다. 아직 영화를 보지 않으셨다면 이쯤에서 읽기를 멈추고 일단 영화를 보라!! 꼭 봐라! 두번 봐라! (이하 스포있음). 뭐가 그렇게 좋았냐면.. 여느 로맨틱 코미디와 달리 신선한 점이 많았다!! 하나, 이 로맨틱 코미디 영화 주인공의 직업이 코미디언이다. 어쩐지 잘못 읽은 것 같은 느낌이라 다시 이전 문장을 읽고 싶겠지만 그럴필요가 없다. 말 그대로니까. 이러한 설정은 엄청난 장점이 있다. 배우가 생활에서 치는 드립도 억지스럽게 느껴지지 않는다. 왜냐면 얘는 원래 이런 애니까! 게다가 그 드립들도 정말 신선햌ㅋㅋ그리고 극 중 코미디 공연 중에 나오는 코미디까지 더 해지니 그야말로 금상첨화!둘, 무슬림 이민자. 파키스탄 무슬림의 결혼 문화도 상당히 신선했다. 부모들끼리 합의를 하고 남자 집에 여자를 보내 남자가 여자를 고르게 한다니!! 대박... 쥐뿔도 없는 남주와 결혼하겠ㅁㅁ다고 여자들이 줄을 서는 것을 보며...쫌 부러웠닼ㅋㅋ 하지만 그 좋은 걸 걷어차버리면서 기성세대와 갈등을 겪는 주인공... 또한 이 무슬림 이민자라는 설정은 9.11 이후 미국에서 무슬림이 겪는 일들을 그대로 보여준다. 지금 제주에서는 예멘 난민들 받지 말아야 한다고 난리인데... 딱히 사고를 겪지도 않은 우리도 난리인판에 미국에서 그들이 겪었을 고초는 오죽했으랴...  이렇게 파키스탄 무슬림이라는 하나의 설정은 여러가지 갈등을 보여주는데, 여기에도 웃음 포인트를 넣어주기에 즐겁게 볼 수 있다.셋, 희귀병. 그냥 희귀병이면 뻔하지. 근데 여기선 처음부터 끝까지 뻔하지가 않다. 헤어졌던 남주가 그 둘의 갈등이 봉합되지 않은채로  여주를 혼수상태에 빠지게 하고, 영문도 모른채 혼수상태에 들어간 여주의 건강상태는 더욱 악화되고, 남주에 대해 감정이 좋지 않은 여주의 가족들과 불편한 자리를 함께하게 되고, 남주는 자신의 사랑을 깨닫고, 남주의 증언 덕분에 여주의 병명을 파악할 수 있어 완치가 되지만, 아무것도 모른체 깨어난 여주는 여전히 남주에 대해 감정이 좋지 않기에 남주를 받아주지 않고... 캬.. 어느 것 하나 흔한 전개가 없다. 아프고 그 사이에 뜨겁게 사랑하고 죽고 슬퍼하는 신파형 로맨틱보다는 백배 천배 낫다. 넷, 이게 가장 큰 신선함인데, 이러한 신선한 설정들이 실화임 ㄷㄷㄷ 영화에 대해 아무것도 모르고 영화관에 들어가서 와..와.. 이 영화 괜찮다. 신선하다. 진짜 재밌다. 하면서 보다가 마지막에 엔딩크레딧이 올라가면서 실화라는 걸 알았을 때 내가 받은 그 충격이란;;; 연출, 스토리, 연기, ost ★극 배경 ☆종합 ★★★★☆ost 마저도 로맨틱 코메디의 느낌을 물씬 주는 곡이니 꼭 한 번 클릭해서 들어보길 추천한다. 이게 바로 로맨틴 코메디지. 암!'"
   ]
  },
  {
   "cell_type": "code",
   "execution_count": 113,
   "metadata": {
    "ExecuteTime": {
     "end_time": "2018-11-22T05:54:28.971687Z",
     "start_time": "2018-11-22T05:54:28.964692Z"
    }
   },
   "outputs": [
    {
     "data": {
      "text/plain": [
       "'제발 포스터만 보고 촌스럽다고 생각하면서 그냥 넘기지 않길 바란다. 포스터와 달리 몹시 세련된 로맨틱 코미디 니까!!간만에 제대로 된 로맨틱 코미디를 보았다. 영화를 보는 내내 웃었고 조마조마했고 가슴이 아팠고 고개를 끄덕였다. 정말 한동안은 로맨틱 코미디 영화를 추천해달라고 하면 빅식을 꼭 보라고 망설이지 않고 추천하게 될 것 같다. 아직 영화를 보지 않으셨다면 이쯤에서 읽기를 멈추고 일단 영화를 보라!! 꼭 봐라! 두번 봐라! (이하 스포있음). 뭐가 그렇게 좋았냐면.. 여느 로맨틱 코미디와 달리 신선한 점이 많았다!! 하나, 이 로맨틱 코미디 영화 주인공의 직업이 코미디언이다. 어쩐지 잘못 읽은 것 같은 느낌이라 다시 이전 문장을 읽고 싶겠지만 그럴필요가 없다. 말 그대로니까. 이러한 설정은 엄청난 장점이 있다. 배우가 생활에서 치는 드립도 억지스럽게 느껴지지 않는다. 왜냐면 얘는 원래 이런 애니까! 게다가 그 드립들도 정말 신선햌ㅋㅋ그리고 극 중 코미디 공연 중에 나오는 코미디까지 더 해지니 그야말로 금상첨화!둘, 무슬림 이민자. 파키스탄 무슬림의 결혼 문화도 상당히 신선했다. 부모들끼리 합의를 하고 남자 집에 여자를 보내 남자가 여자를 고르게 한다니!! 대박... 쥐뿔도 없는 남주와 결혼하겠ㅁㅁ다고 여자들이 줄을 서는 것을 보며...쫌 부러웠닼ㅋㅋ 하지만 그 좋은 걸 걷어차버리면서 기성세대와 갈등을 겪는 주인공... 또한 이 무슬림 이민자라는 설정은 9.11 이후 미국에서 무슬림이 겪는 일들을 그대로 보여준다. 지금 제주에서는 예멘 난민들 받지 말아야 한다고 난리인데... 딱히 사고를 겪지도 않은 우리도 난리인판에 미국에서 그들이 겪었을 고초는 오죽했으랴...  이렇게 파키스탄 무슬림이라는 하나의 설정은 여러가지 갈등을 보여주는데, 여기에도 웃음 포인트를 넣어주기에 즐겁게 볼 수 있다.셋, 희귀병. 그냥 희귀병이면 뻔하지. 근데 여기선 처음부터 끝까지 뻔하지가 않다. 헤어졌던 남주가 그 둘의 갈등이 봉합되지 않은채로  여주를 혼수상태에 빠지게 하고, 영문도 모른채 혼수상태에 들어간 여주의 건강상태는 더욱 악화되고, 남주에 대해 감정이 좋지 않은 여주의 가족들과 불편한 자리를 함께하게 되고, 남주는 자신의 사랑을 깨닫고, 남주의 증언 덕분에 여주의 병명을 파악할 수 있어 완치가 되지만, 아무것도 모른체 깨어난 여주는 여전히 남주에 대해 감정이 좋지 않기에 남주를 받아주지 않고... 캬.. 어느 것 하나 흔한 전개가 없다. 아프고 그 사이에 뜨겁게 사랑하고 죽고 슬퍼하는 신파형 로맨틱보다는 백배 천배 낫다. 넷, 이게 가장 큰 신선함인데, 이러한 신선한 설정들이 실화임 ㄷㄷㄷ 영화에 대해 아무것도 모르고 영화관에 들어가서 와..와.. 이 영화 괜찮다. 신선하다. 진짜 재밌다. 하면서 보다가 마지막에 엔딩크레딧이 올라가면서 실화라는 걸 알았을 때 내가 받은 그 충격이란;;; 연출, 스토리, 연기, ost ★극 배경 ☆종합 ★★★★☆ost 마저도 로맨틱 코메디의 느낌을 물씬 주는 곡이니 꼭 한 번 클릭해서 들어보길 추천한다. 이게 바로 로맨틴 코메디지. 암!'"
      ]
     },
     "execution_count": 113,
     "metadata": {},
     "output_type": "execute_result"
    }
   ],
   "source": [
    "# 영화 빅식 리뷰(1513자)\n",
    "sent"
   ]
  },
  {
   "cell_type": "code",
   "execution_count": 114,
   "metadata": {
    "ExecuteTime": {
     "end_time": "2018-11-22T05:54:29.542333Z",
     "start_time": "2018-11-22T05:54:29.439398Z"
    }
   },
   "outputs": [
    {
     "name": "stdout",
     "output_type": "stream",
     "text": [
      "8\t0.09026398001397805\t 하나, 이 로맨틱 코미디 영화 주인공의 직업이 코미디언이다.\n",
      "1\t0.0653184153528037\t 포스터와 달리 몹시 세련된 로맨틱 코미디 니까!\n",
      "7\t0.06325209305359816\t 여느 로맨틱 코미디와 달리 신선한 점이 많았다!\n",
      "2\t0.05925981143692367\t간만에 제대로 된 로맨틱 코미디를 보았다.\n",
      "19\t0.05906377446248613\t 또한 이 무슬림 이민자라는 설정은 9.11 이후 미국에서 무슬림이 겪는 일들을 그대로 보여준다.\n",
      "14\t0.058721730343255084\t둘, 무슬림 이민자.\n",
      "22\t0.04827071314865102\t  이렇게 파키스탄 무슬림이라는 하나의 설정은 여러가지 갈등을 보여주는데, 여기에도 웃음 포인트를 넣어주기에 즐겁게 볼 수 있다.\n",
      "29\t0.04825044465138619\t 이 영화 괜찮다.\n",
      "15\t0.04624286577094547\t 파키스탄 무슬림의 결혼 문화도 상당히 신선했다.\n",
      "4\t0.045097006188603385\t 정말 한동안은 로맨틱 코미디 영화를 추천해달라고 하면 빅식을 꼭 보라고 망설이지 않고 추천하게 될 것 같다.\n",
      "23\t0.037948206310224164\t 그냥 희귀병이면 뻔하지.\n",
      "28\t0.0340723584837734\t 넷, 이게 가장 큰 신선함인데, 이러한 신선한 설정들이 실화임 ㄷㄷㄷ 영화에 대해 아무것도 모르고 영화관에 들어가서 와.\n",
      "24\t0.03273150166898048\t 근데 여기선 처음부터 끝까지 뻔하지가 않다.\n",
      "13\t0.02953865947287386\t 게다가 그 드립들도 정말 신선햌ㅋㅋ그리고 극 중 코미디 공연 중에 나오는 코미디까지 더 해지니 그야말로 금상첨화!\n",
      "10\t0.025405074944729846\t 이러한 설정은 엄청난 장점이 있다.\n",
      "5\t0.025287029699264094\t 아직 영화를 보지 않으셨다면 이쯤에서 읽기를 멈추고 일단 영화를 보라!\n",
      "26\t0.024713126027648538\t 어느 것 하나 흔한 전개가 없다.\n",
      "3\t0.023482942255756683\t 영화를 보는 내내 웃었고 조마조마했고 가슴이 아팠고 고개를 끄덕였다.\n",
      "17\t0.023340550969055258\t 쥐뿔도 없는 남주와 결혼하겠ㅁㅁ다고 여자들이 줄을 서는 것을 보며.\n",
      "21\t0.021874056269951477\t 딱히 사고를 겪지도 않은 우리도 난리인판에 미국에서 그들이 겪었을 고초는 오죽했으랴.\n",
      "0\t0.01741640645998471\t제발 포스터만 보고 촌스럽다고 생각하면서 그냥 넘기지 않길 바란다.\n",
      "27\t0.017404602621434208\t 아프고 그 사이에 뜨겁게 사랑하고 죽고 슬퍼하는 신파형 로맨틱보다는 백배 천배 낫다.\n",
      "20\t0.016127348250814647\t 지금 제주에서는 예멘 난민들 받지 말아야 한다고 난리인데.\n",
      "18\t0.015861030196607055\t쫌 부러웠닼ㅋㅋ 하지만 그 좋은 걸 걷어차버리면서 기성세대와 갈등을 겪는 주인공.\n",
      "16\t0.013778903889928517\t 부모들끼리 합의를 하고 남자 집에 여자를 보내 남자가 여자를 고르게 한다니!\n",
      "31\t0.011811072368179597\t 하면서 보다가 마지막에 엔딩크레딧이 올라가면서 실화라는 걸 알았을 때 내가 받은 그 충격이란;;; 연출, 스토리, 연기, ost ★극 배경 ☆종합 ★★★★☆ost 마저도 로맨틱 코메디의 느낌을 물씬 주는 곡이니 꼭 한 번 클릭해서 들어보길 추천한다.\n",
      "9\t0.010429036628738148\t 어쩐지 잘못 읽은 것 같은 느낌이라 다시 이전 문장을 읽고 싶겠지만 그럴필요가 없다.\n",
      "11\t0.008950302537685528\t 배우가 생활에서 치는 드립도 억지스럽게 느껴지지 않는다.\n",
      "6\t0.0052173913043478265\t (이하 스포있음).\n",
      "12\t0.0052173913043478265\t 왜냐면 얘는 원래 이런 애니까!\n",
      "25\t0.0052173913043478265\t 헤어졌던 남주가 그 둘의 갈등이 봉합되지 않은채로  여주를 혼수상태에 빠지게 하고, 영문도 모른채 혼수상태에 들어간 여주의 건강상태는 더욱 악화되고, 남주에 대해 감정이 좋지 않은 여주의 가족들과 불편한 자리를 함께하게 되고, 남주는 자신의 사랑을 깨닫고, 남주의 증언 덕분에 여주의 병명을 파악할 수 있어 완치가 되지만, 아무것도 모른체 깨어난 여주는 여전히 남주에 대해 감정이 좋지 않기에 남주를 받아주지 않고.\n",
      "30\t0.0052173913043478265\t 진짜 재밌다.\n",
      "32\t0.0052173913043478265\t 이게 바로 로맨틴 코메디지.\n"
     ]
    }
   ],
   "source": [
    "# 불필요한 문장 10% 뽑고 지우기\n",
    "tr =  TextrankPmi.TextRank()\n",
    "tagger = Twitter()\n",
    "tr.loadSents(TextrankPmi.RawSentence(sent), \n",
    "             lambda sent: filter(lambda x: len(x[0])>=2 and x[1] in ('Noun', 'Verb', 'Adjective'), tagger.pos(sent)))\n",
    "tr.build()\n",
    "ranks = tr.rank()\n",
    "delete_sent=[]\n",
    "for k in sorted(ranks, key=ranks.get, reverse=True)[:100]:\n",
    "    print(\"\\t\".join([str(k), str(ranks[k]), str(tr.dictCount[k])]))\n",
    "    wow = str(tr.dictCount[k])\n",
    "    delete_sent.append(wow)\n",
    "cy = list(tr.dictCount.values())\n",
    "delsent = delete_sent[-int(len(tr.dictCount) * 0.1):-1]\n",
    "delsent.append(delete_sent[-1])\n",
    "for i in range(0,len(delsent)):\n",
    "    sent = sent.replace(delsent[i],'')"
   ]
  },
  {
   "cell_type": "code",
   "execution_count": 115,
   "metadata": {
    "ExecuteTime": {
     "end_time": "2018-11-22T05:54:31.143341Z",
     "start_time": "2018-11-22T05:54:30.689626Z"
    }
   },
   "outputs": [
    {
     "name": "stdout",
     "output_type": "stream",
     "text": [
      "몹시 세련 5.950642552587727\n",
      "보지 않으셨다 5.950642552587727\n",
      "달리 몹시 5.2574953720277815\n",
      "결혼 문화 5.2574953720277815\n",
      "파키스탄 무슬림 4.341204640153626\n",
      "로맨틱 코메디 4.004732403532413\n",
      "로맨틱 코미디 3.6682601669112005\n",
      "달리 신선 3.648057459593681\n",
      "코미디 까지 3.311585222972468\n",
      "영화 주인공 3.311585222972468\n",
      "코미디 영화 2.7519694350370454\n",
      "(('로맨틱', 'Noun'), ('코미디', 'Noun'))\t0.265335\n",
      "(('영화', 'Noun'), ('주인공', 'Noun'))\t0.110175\n",
      "(('파키스탄', 'Noun'), ('무슬림', 'Noun'))\t0.107185\n",
      "(('달리', 'Noun'), ('신선', 'Noun'))\t0.101014\n",
      "(('몹시', 'Noun'), ('세련', 'Noun'))\t0.0901752\n",
      "(('보지', 'Noun'), ('않으셨다', 'Noun'))\t0.0891833\n",
      "(('결혼', 'Noun'), ('문화', 'Noun'))\t0.0864707\n",
      "(('느낌', 'Noun'),)\t0.0636047\n",
      "(('설정', 'Noun'),)\t0.0577697\n",
      "(('원래', 'Noun'),)\t0.057117\n",
      "(('드립', 'Noun'),)\t0.0561501\n",
      "(('그냥', 'Noun'),)\t0.0559054\n",
      "(('연출', 'Noun'),)\t0.054111\n",
      "(('난민', 'Noun'),)\t0.0499988\n",
      "(('여기', 'Noun'),)\t0.0472898\n",
      "(('하나', 'Noun'),)\t0.0472086\n",
      "(('추천', 'Noun'),)\t0.0471094\n",
      "(('난리', 'Noun'),)\t0.0461312\n",
      "(('지도', 'Noun'),)\t0.0460595\n",
      "(('남자', 'Noun'),)\t0.0446019\n",
      "(('엔딩크레딧', 'Noun'),)\t0.044599\n",
      "(('보라', 'Noun'),)\t0.0441491\n",
      "(('갈등', 'Noun'),)\t0.0430565\n",
      "(('해지', 'Noun'),)\t0.042917\n",
      "(('고개', 'Noun'),)\t0.042402\n",
      "(('이란', 'Noun'),)\t0.0414836\n",
      "(('스토리', 'Noun'),)\t0.0414836\n",
      "(('코메디', 'Noun'),)\t0.0412399\n",
      "(('포스터', 'Noun'),)\t0.0394691\n",
      "(('기지', 'Noun'),)\t0.0393487\n",
      "(('이하', 'Noun'),)\t0.0390601\n",
      "(('까지', 'Noun'),)\t0.0347846\n",
      "(('실화', 'Noun'),)\t0.0339957\n",
      "(('여자', 'Noun'),)\t0.0312347\n"
     ]
    }
   ],
   "source": [
    "# 핵심어 뽑기 -> window, coef, 단어의 품사, 전체 단어 비율을 조절할 수 있다.\n",
    "tr = TextrankPmi.TextRank(window=4, coef=1)\n",
    "tr.load(TextrankPmi.RawTagger(sent),lambda w: w not in stopword and len(w[0])>=2 and w[1] in ('Noun'))\n",
    "tr.build()\n",
    "kw = tr.extract(0.3)\n",
    "for k in sorted(kw, key=kw.get, reverse=True):\n",
    "    print(\"%s\\t%g\" % (k, kw[k]))"
   ]
  },
  {
   "cell_type": "code",
   "execution_count": 116,
   "metadata": {
    "ExecuteTime": {
     "end_time": "2018-11-22T05:54:31.871891Z",
     "start_time": "2018-11-22T05:54:31.861897Z"
    }
   },
   "outputs": [
    {
     "data": {
      "text/plain": [
       "['로맨틱 코미디',\n",
       " '영화 주인공',\n",
       " '파키스탄 무슬림',\n",
       " '달리 신선',\n",
       " '몹시 세련',\n",
       " '보지 않으셨다',\n",
       " '결혼 문화',\n",
       " '느낌',\n",
       " '설정']"
      ]
     },
     "execution_count": 116,
     "metadata": {},
     "output_type": "execute_result"
    }
   ],
   "source": [
    "# 단어만 뽑아내기\n",
    "wow = []\n",
    "for k in kw.keys():\n",
    "    if len(k) == 2:\n",
    "        ee = k[0][0] +' '+k[1][0]\n",
    "        wow.append(ee)\n",
    "    else:\n",
    "        ee = k[0][0]\n",
    "        wow.append(ee)\n",
    "        \n",
    "# 핵심단어의 개수는 특정 품사(Noun, Adjective)의 사용된 단어 종류의 개수 중 5% 추출 -> 비율은 사용자가 원하는데로 조절\n",
    "wow = wow[0:int(len(tr.dictCount)*0.07)]\n",
    "wow"
   ]
  },
  {
   "cell_type": "code",
   "execution_count": 117,
   "metadata": {
    "ExecuteTime": {
     "end_time": "2018-11-22T05:54:35.912389Z",
     "start_time": "2018-11-22T05:54:32.418553Z"
    }
   },
   "outputs": [],
   "source": [
    "# 해당 키워드 중 TR이 가장 높은 문장을 택하는 코드\n",
    "finish = []\n",
    "for i in range(0,len(wow)):\n",
    "    for h in sorted(range(-(len(cy)),0),reverse=True):\n",
    "         if wow[i] in cy[h]:\n",
    "            from ckonlpy.tag import Twitter\n",
    "            nlp = Twitter()\n",
    "            f = open('형태소 보완.txt')\n",
    "            dd = f.read()\n",
    "            a = dd.split('\\n')\n",
    "            nlp.add_dictionary(a,'Noun')\n",
    "            try:\n",
    "                tx = nlp.pos(cy[h])\n",
    "                tx2 = nlp.pos(wow[i])[0]\n",
    "                tx3 = tx.index(tx2)\n",
    "                if tx3 == 0:\n",
    "                    j = wow[i]\n",
    "                else:\n",
    "                    hoho2 = []\n",
    "                    for y in range(0,len(tx[:tx3])):\n",
    "                        if 'Noun' in tx[:tx3][y] and len(tx[:tx3][y][0]) >= 3:\n",
    "                            hoho2.append(y)\n",
    "                    if len(hoho2)>=3:\n",
    "                        j = tx[:tx3][hoho2[-3]][0]\n",
    "                    elif len(hoho2) ==2:\n",
    "                        j = tx[:tx3][hoho2[-2]][0]\n",
    "                    elif len(hoho2) == 1:\n",
    "                        j = tx[:tx3][hoho2[0]][0]\n",
    "                    elif len(hoho2) == 0:\n",
    "                        j = wow[i]\n",
    "                aa = cy[h][cy[h].index(j):]\n",
    "                finish.append(aa)\n",
    "            except:\n",
    "                pass\n",
    "            break\n",
    "# 복합명사가 띄어쓰기가 아니라 붙여쓰기인 경우를 고려\n",
    "how = []\n",
    "for i in range(0,len(wow)):\n",
    "    if ' ' in wow[i]:\n",
    "        how.append(wow[i])\n",
    "if len(how) != 0:\n",
    "    for i in range(0,len(how)):\n",
    "        how[i] = how[i].replace(' ','')\n",
    "    for i in range(0,len(how)):\n",
    "        for h in sorted(range(-(len(cy)),0),reverse=True):\n",
    "            if how[i] in cy[h]:\n",
    "                from ckonlpy.tag import Twitter\n",
    "                nlp = Twitter()\n",
    "                f = open('형태소 보완.txt')\n",
    "                dd = f.read()\n",
    "                a = dd.split('\\n')\n",
    "                nlp.add_dictionary(a,'Noun')\n",
    "                tx = nlp.pos(cy[h])\n",
    "                tx2 = nlp.pos(how[i])[0]\n",
    "                tx3 = tx.index(tx2)\n",
    "                if tx3 == 0:\n",
    "                    j = how[i]\n",
    "                else:\n",
    "                    hoho2 = []\n",
    "                    for y in range(0,len(tx[:tx3])):\n",
    "                        if 'Noun' in tx[:tx3][y] and len(tx[:tx3][y][0]) >= 3:\n",
    "                            hoho2.append(y)\n",
    "                    if len(hoho2)>=3:\n",
    "                        j = tx[:tx3][hoho2[-3]][0]\n",
    "                    elif len(hoho2) == 2:\n",
    "                        j = tx[:tx3][hoho2[-2]][0]\n",
    "                    elif len(hoho2) == 1:\n",
    "                        j = tx[:tx3][hoho2[0]][0]\n",
    "                    elif len(hoho2) == 0:\n",
    "                        j = how[i]\n",
    "                aa = cy[h][cy[h].index(j):]\n",
    "                finish.append(aa)\n",
    "                break"
   ]
  },
  {
   "cell_type": "code",
   "execution_count": 118,
   "metadata": {
    "ExecuteTime": {
     "end_time": "2018-11-22T05:54:35.943369Z",
     "start_time": "2018-11-22T05:54:35.926380Z"
    },
    "scrolled": true
   },
   "outputs": [
    {
     "name": "stdout",
     "output_type": "stream",
     "text": [
      "[15, 8, 31, 22, 7, 28, 5, 1]\n",
      "['로맨틱 코미디', '영화 주인공', '파키스탄 무슬림', '달리 신선', '몹시 세련', '보지 않으셨다', '결혼 문화', '느낌', '설정']\n",
      "['포스터와 달리 몹시 세련된 로맨틱 코미디 니까!', '보지 않으셨다면 이쯤에서 읽기를 멈추고 일단 영화를 보라!', '로맨틱 코미디와 달리 신선한 점이 많았다!', '로맨틱 코미디 영화 주인공의 직업이 코미디언이다.', '파키스탄 무슬림의 결혼 문화도 상당히 신선했다.', '파키스탄 무슬림이라는 하나의 설정은 여러가지 갈등을 보여주는데, 여기에도 웃음 포인트를 넣어주기에 즐겁게 볼 수 있다.', '설정들이 실화임 ㄷㄷㄷ 영화에 대해 아무것도 모르고 영화관에 들어가서 와.', '스토리, 연기, ost ★극 배경 ☆종합 ★★★★☆ost 마저도 로맨틱 코메디의 느낌을 물씬 주는 곡이니 꼭 한 번 클릭해서 들어보길 추천한다.']\n"
     ]
    }
   ],
   "source": [
    "# 문장을 시간 순으로 배열\n",
    "summary = list(set(finish))\n",
    "hello = []\n",
    "for i in range(0,len(summary)):\n",
    "    for h in range(0,len(cy)):\n",
    "        if summary[i][0:-3] in cy[h]:\n",
    "            hello.append(h)\n",
    "            break\n",
    "\n",
    "while 1:\n",
    "    if len(hello) == len(summary):\n",
    "        break\n",
    "    elif len(hello) >= len(summary):\n",
    "        hello.pop()\n",
    "    elif len(hello) <= len(summary):\n",
    "        hello.append(50)\n",
    "print(hello)\n",
    "jj=[]\n",
    "for i in range(0,len(summary)):\n",
    "    jj.append([summary[i],hello[i]])\n",
    "ee = dict(jj)\n",
    "items = ee.items()\n",
    "summary2 = [item[0] for item in sorted(items, key=lambda x: x[1])]\n",
    "\n",
    "## 중복되는 문장 제거하기 코드\n",
    "for i in range(0,len(summary2)):\n",
    "    for h in range(0,len(summary2)):\n",
    "        if i != h:\n",
    "            if summary2[i] in summary2[h]:\n",
    "                summary2[i] = '제거'\n",
    "good = True\n",
    "while good:\n",
    "    try:\n",
    "        summary2.remove('제거')\n",
    "    except ValueError: \n",
    "        good = False\n",
    "print(wow)\n",
    "print(summary2)"
   ]
  }
 ],
 "metadata": {
  "kernelspec": {
   "display_name": "Python 3",
   "language": "python",
   "name": "python3"
  },
  "language_info": {
   "codemirror_mode": {
    "name": "ipython",
    "version": 3
   },
   "file_extension": ".py",
   "mimetype": "text/x-python",
   "name": "python",
   "nbconvert_exporter": "python",
   "pygments_lexer": "ipython3",
   "version": "3.6.5"
  },
  "varInspector": {
   "cols": {
    "lenName": 16,
    "lenType": 16,
    "lenVar": 40
   },
   "kernels_config": {
    "python": {
     "delete_cmd_postfix": "",
     "delete_cmd_prefix": "del ",
     "library": "var_list.py",
     "varRefreshCmd": "print(var_dic_list())"
    },
    "r": {
     "delete_cmd_postfix": ") ",
     "delete_cmd_prefix": "rm(",
     "library": "var_list.r",
     "varRefreshCmd": "cat(var_dic_list()) "
    }
   },
   "types_to_exclude": [
    "module",
    "function",
    "builtin_function_or_method",
    "instance",
    "_Feature"
   ],
   "window_display": false
  }
 },
 "nbformat": 4,
 "nbformat_minor": 2
}
